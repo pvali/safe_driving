{
 "cells": [
  {
   "cell_type": "code",
   "execution_count": 589,
   "metadata": {},
   "outputs": [],
   "source": [
    "import pandas as pd;\n",
    "import numpy as np;\n",
    "from glob import glob;\n",
    "import time;\n",
    "import datetime;\n",
    "from sklearn.model_selection import train_test_split\n",
    "from sklearn.naive_bayes import GaussianNB\n",
    "from sklearn.metrics import accuracy_score\n",
    "import pickle\n",
    "from  sklearn.preprocessing import MinMaxScaler\n",
    "from sklearn.model_selection import GridSearchCV\n",
    "from keras.models import Sequential\n",
    "from keras.layers import Dense\n",
    "from keras.wrappers.scikit_learn import KerasClassifier\n",
    "from sklearn.model_selection import StratifiedKFold\n",
    "from sklearn.model_selection import cross_val_score\n"
   ]
  },
  {
   "cell_type": "code",
   "execution_count": 590,
   "metadata": {},
   "outputs": [
    {
     "name": "stdout",
     "output_type": "stream",
     "text": [
      "19:16:53.781977\n",
      "Started processing the file : part-00001-e6120af0-10c2-4248-97c4-81baf4304e5c-c000.csv\n",
      "Done with file : part-00001-e6120af0-10c2-4248-97c4-81baf4304e5c-c000.csv\n",
      "Time to process file : part-00001-e6120af0-10c2-4248-97c4-81baf4304e5c-c000.csv is 14.78363299369812\n",
      "Time to write Df file : df_part-00001-e6120af0-10c2-4248-97c4-81baf4304e5c-c000.csv is 1.4833166599273682\n",
      "19:17:10.055443\n",
      "End of phase-1\n"
     ]
    }
   ],
   "source": [
    "print(datetime.datetime.now().time())\n",
    "for fil in glob('part-00001*.csv'):    \n",
    "    perFileDf = pd.DataFrame()\n",
    "    start_time = time.time()\n",
    "    print (\"Started processing the file : \"+ fil)\n",
    "    for df in pd.read_csv(fil,iterator=True,chunksize=10000000):                \n",
    "                \n",
    "        #df[\"speedFactor\"] = (np.sqrt((df['acceleration_x'])*(df['acceleration_x']) + (df['acceleration_y'])*(df['acceleration_y']) + (df['acceleration_z'])*(df['acceleration_z'])))/(10 + df[\"Speed\"])        \n",
    "        \n",
    "        df[\"absAccX\"] = np.abs(df['acceleration_x'])\n",
    "        df[\"absAccY\"] = np.abs(df['acceleration_y']) - 9.8\n",
    "        df[\"absAccZ\"] = np.abs(df['acceleration_z'])\n",
    "\n",
    "        df[\"absGyroX\"] = np.abs(df['gyro_x'])\n",
    "        df[\"absGyroY\"] = np.abs(df['gyro_y'])\n",
    "        df[\"absGyroZ\"] = np.abs(df['gyro_z'])\n",
    "        \n",
    "        df[\"speedFactor\"] = (np.sqrt((df['absAccX'])*(df['absAccX']) + (df['absAccY'])*(df['absAccY']) + (df['absAccZ'])*(df['absAccZ'])))/(1 + np.abs(df[\"Speed\"]))        \n",
    "                                \n",
    "            \n",
    "        #print (df[\"speedFactor\"].describe(include='all'))\n",
    "        #print (\"==========\")\n",
    "        newDf=df.groupby('bookingID').agg({'absAccX':'mean', 'absAccY':'mean','absAccZ':'mean','absGyroX':'mean', 'absGyroY':'mean','absGyroZ':'mean','Speed':'mean','speedFactor':'mean'})\n",
    "        \n",
    "        #newDf=df.groupby('bookingID').agg({'speedFactor':'mean'})\n",
    "        newDf = newDf.reset_index()\n",
    "        #print (newDf.head())\n",
    "        #print (\"***************\")\n",
    "        perFileDf =  perFileDf.append(newDf)       \n",
    "    \n",
    "    print (\"Done with file : \"+ fil)   \n",
    "    elapsed_time = time.time() - start_time\n",
    "    print (\"Time to process file : \" + str(fil)  + \" is \" + str(elapsed_time))\n",
    "    start_time = time.time()\n",
    "    perFileDf.to_csv(\"df_\"+fil)\n",
    "    elapsed_time = time.time() - start_time\n",
    "    print (\"Time to write Df file : \" + \"df_\"+str(fil)  + \" is \" + str(elapsed_time))\n",
    "\n",
    "print(datetime.datetime.now().time())\n",
    "print(\"End of phase-1\")"
   ]
  },
  {
   "cell_type": "code",
   "execution_count": 592,
   "metadata": {},
   "outputs": [
    {
     "name": "stdout",
     "output_type": "stream",
     "text": [
      "19:22:28.196726\n",
      "Started processing the file : df_part-00001-e6120af0-10c2-4248-97c4-81baf4304e5c-c000.csv\n",
      "Current Df shape(20000, 10)\n",
      "Consolidated Df shape(20000, 10)\n",
      "Done processing the file : df_part-00001-e6120af0-10c2-4248-97c4-81baf4304e5c-c000.csv\n",
      "Time to process file : df_part-00001-e6120af0-10c2-4248-97c4-81baf4304e5c-c000.csv is 0.22729754447937012\n",
      "After Consolidated Df shape(20000, 8)\n",
      "19:22:31.053978\n",
      "End of phase-2\n"
     ]
    }
   ],
   "source": [
    "print(datetime.datetime.now().time())\n",
    "consolidatedDf = pd.DataFrame()\n",
    "for fil in glob('df_part-00001*.csv'):    \n",
    "    start_time = time.time()\n",
    "    print (\"Started processing the file : \"+ fil)\n",
    "    for df in pd.read_csv(fil,iterator=True,chunksize=10000000):                \n",
    "        print (\"Current Df shape\" + str(df.shape))\n",
    "        consolidatedDf = consolidatedDf.append(df)               \n",
    "        print (\"Consolidated Df shape\" + str(consolidatedDf.shape))\n",
    "    print (\"Done processing the file : \"+ fil)    \n",
    "    elapsed_time = time.time() - start_time\n",
    "    print (\"Time to process file : \" + str(fil)  + \" is \" + str(elapsed_time))    \n",
    "\n",
    "consolidatedDf.to_csv(\"consolidatedDf.csv\")\n",
    "grpConsolidatedDf =consolidatedDf.groupby('bookingID').agg({'absAccX':'mean', 'absAccY':'mean','absAccZ':'mean','absGyroX':'mean', 'absGyroY':'mean','absGyroZ':'mean','speedFactor':'mean','Speed':'mean'})\n",
    "#grpConsolidatedDf =consolidatedDf.groupby('bookingID').agg({'speedFactor':'mean'})\n",
    "print (\"After Consolidated Df shape\" + str(grpConsolidatedDf.shape))\n",
    "grpConsolidatedDf.to_csv(\"grpConsolidatedDf.csv\")\n",
    "print(datetime.datetime.now().time())\n",
    "\n",
    "print(\"End of phase-2\")"
   ]
  },
  {
   "cell_type": "code",
   "execution_count": 593,
   "metadata": {},
   "outputs": [],
   "source": [
    "grpDf =  pd.read_csv(\"grpConsolidatedDf.csv\")                "
   ]
  },
  {
   "cell_type": "code",
   "execution_count": 594,
   "metadata": {},
   "outputs": [
    {
     "data": {
      "text/html": [
       "<div>\n",
       "<style scoped>\n",
       "    .dataframe tbody tr th:only-of-type {\n",
       "        vertical-align: middle;\n",
       "    }\n",
       "\n",
       "    .dataframe tbody tr th {\n",
       "        vertical-align: top;\n",
       "    }\n",
       "\n",
       "    .dataframe thead th {\n",
       "        text-align: right;\n",
       "    }\n",
       "</style>\n",
       "<table border=\"1\" class=\"dataframe\">\n",
       "  <thead>\n",
       "    <tr style=\"text-align: right;\">\n",
       "      <th></th>\n",
       "      <th>bookingID</th>\n",
       "      <th>absAccX</th>\n",
       "      <th>absAccY</th>\n",
       "      <th>absAccZ</th>\n",
       "      <th>absGyroX</th>\n",
       "      <th>absGyroY</th>\n",
       "      <th>absGyroZ</th>\n",
       "      <th>speedFactor</th>\n",
       "      <th>Speed</th>\n",
       "    </tr>\n",
       "  </thead>\n",
       "  <tbody>\n",
       "    <tr>\n",
       "      <th>0</th>\n",
       "      <td>0</td>\n",
       "      <td>0.834060</td>\n",
       "      <td>-0.220720</td>\n",
       "      <td>1.682674</td>\n",
       "      <td>0.038779</td>\n",
       "      <td>0.055264</td>\n",
       "      <td>0.035292</td>\n",
       "      <td>0.552266</td>\n",
       "      <td>8.249537</td>\n",
       "    </tr>\n",
       "    <tr>\n",
       "      <th>1</th>\n",
       "      <td>1</td>\n",
       "      <td>0.714013</td>\n",
       "      <td>-0.183361</td>\n",
       "      <td>2.127801</td>\n",
       "      <td>0.017789</td>\n",
       "      <td>0.053492</td>\n",
       "      <td>0.022294</td>\n",
       "      <td>0.906879</td>\n",
       "      <td>7.624494</td>\n",
       "    </tr>\n",
       "    <tr>\n",
       "      <th>2</th>\n",
       "      <td>2</td>\n",
       "      <td>0.649514</td>\n",
       "      <td>0.031824</td>\n",
       "      <td>0.620117</td>\n",
       "      <td>0.016479</td>\n",
       "      <td>0.082380</td>\n",
       "      <td>0.019386</td>\n",
       "      <td>0.581923</td>\n",
       "      <td>2.871415</td>\n",
       "    </tr>\n",
       "    <tr>\n",
       "      <th>3</th>\n",
       "      <td>4</td>\n",
       "      <td>0.495212</td>\n",
       "      <td>-0.427121</td>\n",
       "      <td>2.710666</td>\n",
       "      <td>0.034396</td>\n",
       "      <td>0.075628</td>\n",
       "      <td>0.043784</td>\n",
       "      <td>0.666747</td>\n",
       "      <td>6.282727</td>\n",
       "    </tr>\n",
       "    <tr>\n",
       "      <th>4</th>\n",
       "      <td>6</td>\n",
       "      <td>0.811684</td>\n",
       "      <td>-0.295071</td>\n",
       "      <td>2.417631</td>\n",
       "      <td>0.035863</td>\n",
       "      <td>0.060289</td>\n",
       "      <td>0.045958</td>\n",
       "      <td>1.259021</td>\n",
       "      <td>5.011717</td>\n",
       "    </tr>\n",
       "  </tbody>\n",
       "</table>\n",
       "</div>"
      ],
      "text/plain": [
       "   bookingID   absAccX   absAccY   absAccZ  absGyroX  absGyroY  absGyroZ  \\\n",
       "0          0  0.834060 -0.220720  1.682674  0.038779  0.055264  0.035292   \n",
       "1          1  0.714013 -0.183361  2.127801  0.017789  0.053492  0.022294   \n",
       "2          2  0.649514  0.031824  0.620117  0.016479  0.082380  0.019386   \n",
       "3          4  0.495212 -0.427121  2.710666  0.034396  0.075628  0.043784   \n",
       "4          6  0.811684 -0.295071  2.417631  0.035863  0.060289  0.045958   \n",
       "\n",
       "   speedFactor     Speed  \n",
       "0     0.552266  8.249537  \n",
       "1     0.906879  7.624494  \n",
       "2     0.581923  2.871415  \n",
       "3     0.666747  6.282727  \n",
       "4     1.259021  5.011717  "
      ]
     },
     "execution_count": 594,
     "metadata": {},
     "output_type": "execute_result"
    }
   ],
   "source": [
    "grpDf.head()"
   ]
  },
  {
   "cell_type": "code",
   "execution_count": 595,
   "metadata": {},
   "outputs": [
    {
     "data": {
      "text/plain": [
       "(20000, 9)"
      ]
     },
     "execution_count": 595,
     "metadata": {},
     "output_type": "execute_result"
    }
   ],
   "source": [
    "grpDf.shape"
   ]
  },
  {
   "cell_type": "code",
   "execution_count": 596,
   "metadata": {},
   "outputs": [],
   "source": [
    "labelDf = pd.read_csv('labels.csv')"
   ]
  },
  {
   "cell_type": "code",
   "execution_count": 597,
   "metadata": {},
   "outputs": [
    {
     "data": {
      "text/html": [
       "<div>\n",
       "<style scoped>\n",
       "    .dataframe tbody tr th:only-of-type {\n",
       "        vertical-align: middle;\n",
       "    }\n",
       "\n",
       "    .dataframe tbody tr th {\n",
       "        vertical-align: top;\n",
       "    }\n",
       "\n",
       "    .dataframe thead th {\n",
       "        text-align: right;\n",
       "    }\n",
       "</style>\n",
       "<table border=\"1\" class=\"dataframe\">\n",
       "  <thead>\n",
       "    <tr style=\"text-align: right;\">\n",
       "      <th></th>\n",
       "      <th>bookingID</th>\n",
       "      <th>label</th>\n",
       "    </tr>\n",
       "  </thead>\n",
       "  <tbody>\n",
       "    <tr>\n",
       "      <th>0</th>\n",
       "      <td>111669149733</td>\n",
       "      <td>0</td>\n",
       "    </tr>\n",
       "    <tr>\n",
       "      <th>1</th>\n",
       "      <td>335007449205</td>\n",
       "      <td>1</td>\n",
       "    </tr>\n",
       "    <tr>\n",
       "      <th>2</th>\n",
       "      <td>171798691856</td>\n",
       "      <td>0</td>\n",
       "    </tr>\n",
       "    <tr>\n",
       "      <th>3</th>\n",
       "      <td>1520418422900</td>\n",
       "      <td>0</td>\n",
       "    </tr>\n",
       "    <tr>\n",
       "      <th>4</th>\n",
       "      <td>798863917116</td>\n",
       "      <td>0</td>\n",
       "    </tr>\n",
       "  </tbody>\n",
       "</table>\n",
       "</div>"
      ],
      "text/plain": [
       "       bookingID  label\n",
       "0   111669149733      0\n",
       "1   335007449205      1\n",
       "2   171798691856      0\n",
       "3  1520418422900      0\n",
       "4   798863917116      0"
      ]
     },
     "execution_count": 597,
     "metadata": {},
     "output_type": "execute_result"
    }
   ],
   "source": [
    "labelDf.head()"
   ]
  },
  {
   "cell_type": "code",
   "execution_count": 598,
   "metadata": {},
   "outputs": [
    {
     "data": {
      "text/plain": [
       "(20018, 2)"
      ]
     },
     "execution_count": 598,
     "metadata": {},
     "output_type": "execute_result"
    }
   ],
   "source": [
    "labelDf.shape"
   ]
  },
  {
   "cell_type": "code",
   "execution_count": 599,
   "metadata": {},
   "outputs": [],
   "source": [
    "labelDf.drop_duplicates(subset=['bookingID'],inplace=True,keep='first')"
   ]
  },
  {
   "cell_type": "code",
   "execution_count": 600,
   "metadata": {},
   "outputs": [
    {
     "data": {
      "text/plain": [
       "(20000, 2)"
      ]
     },
     "execution_count": 600,
     "metadata": {},
     "output_type": "execute_result"
    }
   ],
   "source": [
    "labelDf.shape"
   ]
  },
  {
   "cell_type": "code",
   "execution_count": 601,
   "metadata": {},
   "outputs": [],
   "source": [
    "withLabelDf = pd.merge(labelDf,grpDf,on=\"bookingID\")"
   ]
  },
  {
   "cell_type": "code",
   "execution_count": 602,
   "metadata": {},
   "outputs": [
    {
     "data": {
      "text/html": [
       "<div>\n",
       "<style scoped>\n",
       "    .dataframe tbody tr th:only-of-type {\n",
       "        vertical-align: middle;\n",
       "    }\n",
       "\n",
       "    .dataframe tbody tr th {\n",
       "        vertical-align: top;\n",
       "    }\n",
       "\n",
       "    .dataframe thead th {\n",
       "        text-align: right;\n",
       "    }\n",
       "</style>\n",
       "<table border=\"1\" class=\"dataframe\">\n",
       "  <thead>\n",
       "    <tr style=\"text-align: right;\">\n",
       "      <th></th>\n",
       "      <th>bookingID</th>\n",
       "      <th>label</th>\n",
       "      <th>absAccX</th>\n",
       "      <th>absAccY</th>\n",
       "      <th>absAccZ</th>\n",
       "      <th>absGyroX</th>\n",
       "      <th>absGyroY</th>\n",
       "      <th>absGyroZ</th>\n",
       "      <th>speedFactor</th>\n",
       "      <th>Speed</th>\n",
       "    </tr>\n",
       "  </thead>\n",
       "  <tbody>\n",
       "    <tr>\n",
       "      <th>0</th>\n",
       "      <td>111669149733</td>\n",
       "      <td>0</td>\n",
       "      <td>0.379943</td>\n",
       "      <td>-0.078871</td>\n",
       "      <td>0.612965</td>\n",
       "      <td>0.015233</td>\n",
       "      <td>0.030512</td>\n",
       "      <td>0.017338</td>\n",
       "      <td>0.271823</td>\n",
       "      <td>5.107879</td>\n",
       "    </tr>\n",
       "    <tr>\n",
       "      <th>1</th>\n",
       "      <td>335007449205</td>\n",
       "      <td>1</td>\n",
       "      <td>0.879976</td>\n",
       "      <td>-0.279679</td>\n",
       "      <td>1.278360</td>\n",
       "      <td>0.037018</td>\n",
       "      <td>0.094605</td>\n",
       "      <td>0.017074</td>\n",
       "      <td>0.584506</td>\n",
       "      <td>6.275801</td>\n",
       "    </tr>\n",
       "    <tr>\n",
       "      <th>2</th>\n",
       "      <td>171798691856</td>\n",
       "      <td>0</td>\n",
       "      <td>0.445844</td>\n",
       "      <td>-0.159671</td>\n",
       "      <td>0.380780</td>\n",
       "      <td>0.031890</td>\n",
       "      <td>0.036026</td>\n",
       "      <td>0.045659</td>\n",
       "      <td>0.078154</td>\n",
       "      <td>16.239362</td>\n",
       "    </tr>\n",
       "    <tr>\n",
       "      <th>3</th>\n",
       "      <td>1520418422900</td>\n",
       "      <td>0</td>\n",
       "      <td>0.665027</td>\n",
       "      <td>0.091064</td>\n",
       "      <td>0.780459</td>\n",
       "      <td>0.020005</td>\n",
       "      <td>0.056748</td>\n",
       "      <td>0.021926</td>\n",
       "      <td>0.205818</td>\n",
       "      <td>14.271977</td>\n",
       "    </tr>\n",
       "    <tr>\n",
       "      <th>4</th>\n",
       "      <td>798863917116</td>\n",
       "      <td>0</td>\n",
       "      <td>0.921230</td>\n",
       "      <td>-0.193657</td>\n",
       "      <td>1.346567</td>\n",
       "      <td>0.073428</td>\n",
       "      <td>0.074201</td>\n",
       "      <td>0.017453</td>\n",
       "      <td>0.627011</td>\n",
       "      <td>8.178224</td>\n",
       "    </tr>\n",
       "  </tbody>\n",
       "</table>\n",
       "</div>"
      ],
      "text/plain": [
       "       bookingID  label   absAccX   absAccY   absAccZ  absGyroX  absGyroY  \\\n",
       "0   111669149733      0  0.379943 -0.078871  0.612965  0.015233  0.030512   \n",
       "1   335007449205      1  0.879976 -0.279679  1.278360  0.037018  0.094605   \n",
       "2   171798691856      0  0.445844 -0.159671  0.380780  0.031890  0.036026   \n",
       "3  1520418422900      0  0.665027  0.091064  0.780459  0.020005  0.056748   \n",
       "4   798863917116      0  0.921230 -0.193657  1.346567  0.073428  0.074201   \n",
       "\n",
       "   absGyroZ  speedFactor      Speed  \n",
       "0  0.017338     0.271823   5.107879  \n",
       "1  0.017074     0.584506   6.275801  \n",
       "2  0.045659     0.078154  16.239362  \n",
       "3  0.021926     0.205818  14.271977  \n",
       "4  0.017453     0.627011   8.178224  "
      ]
     },
     "execution_count": 602,
     "metadata": {},
     "output_type": "execute_result"
    }
   ],
   "source": [
    "withLabelDf.head()"
   ]
  },
  {
   "cell_type": "code",
   "execution_count": 603,
   "metadata": {},
   "outputs": [],
   "source": [
    "labelDf.to_csv(\"labels_df.csv\")"
   ]
  },
  {
   "cell_type": "code",
   "execution_count": 604,
   "metadata": {},
   "outputs": [],
   "source": [
    "withLabelDf.to_csv(\"withLabel_df.csv\")"
   ]
  },
  {
   "cell_type": "markdown",
   "metadata": {},
   "source": [
    "### Preprocssing is done, now lets apply the classification algorithm"
   ]
  },
  {
   "cell_type": "code",
   "execution_count": 605,
   "metadata": {},
   "outputs": [],
   "source": [
    "allColumns = withLabelDf.columns"
   ]
  },
  {
   "cell_type": "code",
   "execution_count": 606,
   "metadata": {},
   "outputs": [],
   "source": [
    "excludeLabels = [\"bookingID\",\"label\"]"
   ]
  },
  {
   "cell_type": "code",
   "execution_count": 607,
   "metadata": {},
   "outputs": [],
   "source": [
    "featuresCol = [eachCol for eachCol in allColumns if eachCol not in excludeLabels]"
   ]
  },
  {
   "cell_type": "code",
   "execution_count": 608,
   "metadata": {},
   "outputs": [
    {
     "data": {
      "text/plain": [
       "['absAccX',\n",
       " 'absAccY',\n",
       " 'absAccZ',\n",
       " 'absGyroX',\n",
       " 'absGyroY',\n",
       " 'absGyroZ',\n",
       " 'speedFactor',\n",
       " 'Speed']"
      ]
     },
     "execution_count": 608,
     "metadata": {},
     "output_type": "execute_result"
    }
   ],
   "source": [
    "featuresCol"
   ]
  },
  {
   "cell_type": "code",
   "execution_count": 609,
   "metadata": {},
   "outputs": [],
   "source": [
    " X_train, X_test, y_train, y_test = train_test_split(withLabelDf[featuresCol],withLabelDf['label'],test_size=0.3, random_state=8912)"
   ]
  },
  {
   "cell_type": "code",
   "execution_count": 610,
   "metadata": {},
   "outputs": [
    {
     "data": {
      "text/html": [
       "<div>\n",
       "<style scoped>\n",
       "    .dataframe tbody tr th:only-of-type {\n",
       "        vertical-align: middle;\n",
       "    }\n",
       "\n",
       "    .dataframe tbody tr th {\n",
       "        vertical-align: top;\n",
       "    }\n",
       "\n",
       "    .dataframe thead th {\n",
       "        text-align: right;\n",
       "    }\n",
       "</style>\n",
       "<table border=\"1\" class=\"dataframe\">\n",
       "  <thead>\n",
       "    <tr style=\"text-align: right;\">\n",
       "      <th></th>\n",
       "      <th>absAccX</th>\n",
       "      <th>absAccY</th>\n",
       "      <th>absAccZ</th>\n",
       "      <th>absGyroX</th>\n",
       "      <th>absGyroY</th>\n",
       "      <th>absGyroZ</th>\n",
       "      <th>speedFactor</th>\n",
       "      <th>Speed</th>\n",
       "    </tr>\n",
       "  </thead>\n",
       "  <tbody>\n",
       "    <tr>\n",
       "      <th>13974</th>\n",
       "      <td>0.959978</td>\n",
       "      <td>0.176437</td>\n",
       "      <td>1.302765</td>\n",
       "      <td>0.053060</td>\n",
       "      <td>0.072878</td>\n",
       "      <td>0.041217</td>\n",
       "      <td>0.604481</td>\n",
       "      <td>6.948176</td>\n",
       "    </tr>\n",
       "    <tr>\n",
       "      <th>17424</th>\n",
       "      <td>3.515598</td>\n",
       "      <td>-1.164928</td>\n",
       "      <td>2.405909</td>\n",
       "      <td>0.024948</td>\n",
       "      <td>0.064291</td>\n",
       "      <td>0.022531</td>\n",
       "      <td>0.970237</td>\n",
       "      <td>12.391443</td>\n",
       "    </tr>\n",
       "    <tr>\n",
       "      <th>12953</th>\n",
       "      <td>1.315104</td>\n",
       "      <td>-0.200493</td>\n",
       "      <td>0.737547</td>\n",
       "      <td>0.035408</td>\n",
       "      <td>0.040204</td>\n",
       "      <td>0.045702</td>\n",
       "      <td>0.079440</td>\n",
       "      <td>22.298432</td>\n",
       "    </tr>\n",
       "    <tr>\n",
       "      <th>973</th>\n",
       "      <td>0.433644</td>\n",
       "      <td>-0.482072</td>\n",
       "      <td>2.848140</td>\n",
       "      <td>0.098897</td>\n",
       "      <td>0.049179</td>\n",
       "      <td>0.064120</td>\n",
       "      <td>0.520745</td>\n",
       "      <td>10.043010</td>\n",
       "    </tr>\n",
       "    <tr>\n",
       "      <th>9036</th>\n",
       "      <td>0.669623</td>\n",
       "      <td>-0.256444</td>\n",
       "      <td>1.173365</td>\n",
       "      <td>0.073072</td>\n",
       "      <td>0.048750</td>\n",
       "      <td>0.024157</td>\n",
       "      <td>0.281680</td>\n",
       "      <td>7.406659</td>\n",
       "    </tr>\n",
       "  </tbody>\n",
       "</table>\n",
       "</div>"
      ],
      "text/plain": [
       "        absAccX   absAccY   absAccZ  absGyroX  absGyroY  absGyroZ  \\\n",
       "13974  0.959978  0.176437  1.302765  0.053060  0.072878  0.041217   \n",
       "17424  3.515598 -1.164928  2.405909  0.024948  0.064291  0.022531   \n",
       "12953  1.315104 -0.200493  0.737547  0.035408  0.040204  0.045702   \n",
       "973    0.433644 -0.482072  2.848140  0.098897  0.049179  0.064120   \n",
       "9036   0.669623 -0.256444  1.173365  0.073072  0.048750  0.024157   \n",
       "\n",
       "       speedFactor      Speed  \n",
       "13974     0.604481   6.948176  \n",
       "17424     0.970237  12.391443  \n",
       "12953     0.079440  22.298432  \n",
       "973       0.520745  10.043010  \n",
       "9036      0.281680   7.406659  "
      ]
     },
     "execution_count": 610,
     "metadata": {},
     "output_type": "execute_result"
    }
   ],
   "source": [
    "X_train.head()"
   ]
  },
  {
   "cell_type": "code",
   "execution_count": 611,
   "metadata": {},
   "outputs": [
    {
     "data": {
      "text/html": [
       "<div>\n",
       "<style scoped>\n",
       "    .dataframe tbody tr th:only-of-type {\n",
       "        vertical-align: middle;\n",
       "    }\n",
       "\n",
       "    .dataframe tbody tr th {\n",
       "        vertical-align: top;\n",
       "    }\n",
       "\n",
       "    .dataframe thead th {\n",
       "        text-align: right;\n",
       "    }\n",
       "</style>\n",
       "<table border=\"1\" class=\"dataframe\">\n",
       "  <thead>\n",
       "    <tr style=\"text-align: right;\">\n",
       "      <th></th>\n",
       "      <th>absAccX</th>\n",
       "      <th>absAccY</th>\n",
       "      <th>absAccZ</th>\n",
       "      <th>absGyroX</th>\n",
       "      <th>absGyroY</th>\n",
       "      <th>absGyroZ</th>\n",
       "      <th>speedFactor</th>\n",
       "      <th>Speed</th>\n",
       "    </tr>\n",
       "  </thead>\n",
       "  <tbody>\n",
       "    <tr>\n",
       "      <th>11635</th>\n",
       "      <td>1.112467</td>\n",
       "      <td>-0.754865</td>\n",
       "      <td>2.957147</td>\n",
       "      <td>0.074271</td>\n",
       "      <td>0.159827</td>\n",
       "      <td>0.129607</td>\n",
       "      <td>0.767410</td>\n",
       "      <td>5.394711</td>\n",
       "    </tr>\n",
       "    <tr>\n",
       "      <th>19216</th>\n",
       "      <td>0.639995</td>\n",
       "      <td>-0.352192</td>\n",
       "      <td>2.228736</td>\n",
       "      <td>0.043849</td>\n",
       "      <td>0.096299</td>\n",
       "      <td>0.039926</td>\n",
       "      <td>0.753423</td>\n",
       "      <td>7.384937</td>\n",
       "    </tr>\n",
       "    <tr>\n",
       "      <th>6751</th>\n",
       "      <td>0.721461</td>\n",
       "      <td>0.351166</td>\n",
       "      <td>1.409357</td>\n",
       "      <td>0.013079</td>\n",
       "      <td>0.018415</td>\n",
       "      <td>0.008741</td>\n",
       "      <td>0.094928</td>\n",
       "      <td>18.995200</td>\n",
       "    </tr>\n",
       "    <tr>\n",
       "      <th>4248</th>\n",
       "      <td>0.693866</td>\n",
       "      <td>-0.337003</td>\n",
       "      <td>2.727628</td>\n",
       "      <td>0.058503</td>\n",
       "      <td>0.063129</td>\n",
       "      <td>0.037936</td>\n",
       "      <td>0.567766</td>\n",
       "      <td>11.751127</td>\n",
       "    </tr>\n",
       "    <tr>\n",
       "      <th>9921</th>\n",
       "      <td>1.711276</td>\n",
       "      <td>-1.597589</td>\n",
       "      <td>5.015348</td>\n",
       "      <td>0.018375</td>\n",
       "      <td>0.044987</td>\n",
       "      <td>0.025918</td>\n",
       "      <td>1.849403</td>\n",
       "      <td>5.647748</td>\n",
       "    </tr>\n",
       "  </tbody>\n",
       "</table>\n",
       "</div>"
      ],
      "text/plain": [
       "        absAccX   absAccY   absAccZ  absGyroX  absGyroY  absGyroZ  \\\n",
       "11635  1.112467 -0.754865  2.957147  0.074271  0.159827  0.129607   \n",
       "19216  0.639995 -0.352192  2.228736  0.043849  0.096299  0.039926   \n",
       "6751   0.721461  0.351166  1.409357  0.013079  0.018415  0.008741   \n",
       "4248   0.693866 -0.337003  2.727628  0.058503  0.063129  0.037936   \n",
       "9921   1.711276 -1.597589  5.015348  0.018375  0.044987  0.025918   \n",
       "\n",
       "       speedFactor      Speed  \n",
       "11635     0.767410   5.394711  \n",
       "19216     0.753423   7.384937  \n",
       "6751      0.094928  18.995200  \n",
       "4248      0.567766  11.751127  \n",
       "9921      1.849403   5.647748  "
      ]
     },
     "execution_count": 611,
     "metadata": {},
     "output_type": "execute_result"
    }
   ],
   "source": [
    "X_test.head()\n"
   ]
  },
  {
   "cell_type": "code",
   "execution_count": 612,
   "metadata": {},
   "outputs": [],
   "source": [
    "\n",
    "scaler = MinMaxScaler()\n",
    "X_train = scaler.fit_transform(X_train)\n",
    "X_test = scaler.transform(X_test)"
   ]
  },
  {
   "cell_type": "code",
   "execution_count": 613,
   "metadata": {},
   "outputs": [
    {
     "data": {
      "text/plain": [
       "array([0.07214143, 0.2572379 , 0.03558562, 0.00787021, 0.00096088,\n",
       "       0.00462747, 0.00356838, 0.65399458])"
      ]
     },
     "execution_count": 613,
     "metadata": {},
     "output_type": "execute_result"
    }
   ],
   "source": [
    "X_test[2]\n"
   ]
  },
  {
   "cell_type": "code",
   "execution_count": 614,
   "metadata": {},
   "outputs": [],
   "source": [
    "gnb= GaussianNB()"
   ]
  },
  {
   "cell_type": "code",
   "execution_count": null,
   "metadata": {},
   "outputs": [],
   "source": []
  },
  {
   "cell_type": "code",
   "execution_count": 615,
   "metadata": {},
   "outputs": [
    {
     "name": "stdout",
     "output_type": "stream",
     "text": [
      "[0 0 0 ... 0 0 0]\n",
      "0.7415\n"
     ]
    }
   ],
   "source": [
    "model = gnb.fit(X_train, y_train)\n",
    "\n",
    "# Make predictions\n",
    "preds = gnb.predict(X_test)\n",
    "print(preds)\n",
    "\n",
    "# Evaluate accuracy\n",
    "print(accuracy_score(y_test, preds))"
   ]
  },
  {
   "cell_type": "code",
   "execution_count": 622,
   "metadata": {},
   "outputs": [
    {
     "name": "stdout",
     "output_type": "stream",
     "text": [
      "Accuracy of Decision Tree classifier on training set: 1.00\n",
      "Accuracy of Decision Tree classifier on test set: 0.64\n"
     ]
    }
   ],
   "source": [
    "from sklearn.tree import DecisionTreeClassifier\n",
    "clf = DecisionTreeClassifier().fit(X_train, y_train)\n",
    "print('Accuracy of Decision Tree classifier on training set: {:.2f}'\n",
    "     .format(clf.score(X_train, y_train)))\n",
    "print('Accuracy of Decision Tree classifier on test set: {:.2f}'\n",
    "     .format(clf.score(X_test, y_test)))"
   ]
  },
  {
   "cell_type": "code",
   "execution_count": 623,
   "metadata": {},
   "outputs": [
    {
     "name": "stdout",
     "output_type": "stream",
     "text": [
      "Accuracy of K-NN classifier on training set: 0.79\n",
      "Accuracy of K-NN classifier on test set: 0.71\n"
     ]
    }
   ],
   "source": [
    "from sklearn.neighbors import KNeighborsClassifier\n",
    "knn = KNeighborsClassifier()\n",
    "knn.fit(X_train, y_train)\n",
    "print('Accuracy of K-NN classifier on training set: {:.2f}'\n",
    "     .format(knn.score(X_train, y_train)))\n",
    "print('Accuracy of K-NN classifier on test set: {:.2f}'\n",
    "     .format(knn.score(X_test, y_test)))"
   ]
  },
  {
   "cell_type": "code",
   "execution_count": 624,
   "metadata": {},
   "outputs": [
    {
     "name": "stdout",
     "output_type": "stream",
     "text": [
      "Accuracy of LDA classifier on training set: 0.76\n",
      "Accuracy of LDA classifier on test set: 0.76\n"
     ]
    }
   ],
   "source": [
    "from sklearn.discriminant_analysis import LinearDiscriminantAnalysis\n",
    "lda = LinearDiscriminantAnalysis()\n",
    "lda.fit(X_train, y_train)\n",
    "print('Accuracy of LDA classifier on training set: {:.2f}'\n",
    "     .format(lda.score(X_train, y_train)))\n",
    "print('Accuracy of LDA classifier on test set: {:.2f}'\n",
    "     .format(lda.score(X_test, y_test)))"
   ]
  },
  {
   "cell_type": "code",
   "execution_count": 625,
   "metadata": {},
   "outputs": [
    {
     "name": "stdout",
     "output_type": "stream",
     "text": [
      "Accuracy of GNB classifier on training set: 0.74\n",
      "Accuracy of GNB classifier on test set: 0.74\n"
     ]
    }
   ],
   "source": [
    "from sklearn.naive_bayes import GaussianNB\n",
    "gnb = GaussianNB()\n",
    "gnb.fit(X_train, y_train)\n",
    "print('Accuracy of GNB classifier on training set: {:.2f}'\n",
    "     .format(gnb.score(X_train, y_train)))\n",
    "print('Accuracy of GNB classifier on test set: {:.2f}'\n",
    "     .format(gnb.score(X_test, y_test)))"
   ]
  },
  {
   "cell_type": "code",
   "execution_count": 620,
   "metadata": {},
   "outputs": [
    {
     "name": "stdout",
     "output_type": "stream",
     "text": [
      "Accuracy of SVM classifier on training set: 0.76\n",
      "Accuracy of SVM classifier on test set: 0.76\n"
     ]
    }
   ],
   "source": [
    "from sklearn.svm import SVC\n",
    "svm = SVC(C=10,gamma=1)\n",
    "svm.fit(X_train, y_train)\n",
    "print('Accuracy of SVM classifier on training set: {:.2f}'\n",
    "     .format(svm.score(X_train, y_train)))\n",
    "print('Accuracy of SVM classifier on test set: {:.2f}'\n",
    "     .format(svm.score(X_test, y_test)))"
   ]
  },
  {
   "cell_type": "code",
   "execution_count": 536,
   "metadata": {},
   "outputs": [
    {
     "name": "stdout",
     "output_type": "stream",
     "text": [
      "Fitting 10 folds for each of 20 candidates, totalling 200 fits\n"
     ]
    },
    {
     "name": "stderr",
     "output_type": "stream",
     "text": [
      "[Parallel(n_jobs=-1)]: Using backend LokyBackend with 8 concurrent workers.\n",
      "[Parallel(n_jobs=-1)]: Done   2 tasks      | elapsed:   44.2s\n",
      "[Parallel(n_jobs=-1)]: Done   9 tasks      | elapsed:  1.2min\n",
      "[Parallel(n_jobs=-1)]: Done  16 tasks      | elapsed:  1.3min\n",
      "[Parallel(n_jobs=-1)]: Done  25 tasks      | elapsed:  2.2min\n",
      "[Parallel(n_jobs=-1)]: Done  34 tasks      | elapsed:  2.7min\n",
      "[Parallel(n_jobs=-1)]: Done  45 tasks      | elapsed:  3.4min\n",
      "[Parallel(n_jobs=-1)]: Done  56 tasks      | elapsed:  4.3min\n",
      "[Parallel(n_jobs=-1)]: Done  69 tasks      | elapsed:  5.5min\n",
      "[Parallel(n_jobs=-1)]: Done  82 tasks      | elapsed:  6.4min\n",
      "[Parallel(n_jobs=-1)]: Done  97 tasks      | elapsed:  7.9min\n",
      "[Parallel(n_jobs=-1)]: Done 112 tasks      | elapsed:  9.2min\n",
      "C:\\Users\\pitva01\\AppData\\Local\\Continuum\\anaconda3\\lib\\site-packages\\sklearn\\externals\\joblib\\externals\\loky\\process_executor.py:706: UserWarning: A worker stopped while some jobs were given to the executor. This can be caused by a too short worker timeout or by a memory leak.\n",
      "  \"timeout or by a memory leak.\", UserWarning\n",
      "[Parallel(n_jobs=-1)]: Done 129 tasks      | elapsed: 10.4min\n",
      "[Parallel(n_jobs=-1)]: Done 146 tasks      | elapsed: 12.2min\n",
      "[Parallel(n_jobs=-1)]: Done 165 tasks      | elapsed: 14.1min\n",
      "[Parallel(n_jobs=-1)]: Done 184 tasks      | elapsed: 16.1min\n",
      "[Parallel(n_jobs=-1)]: Done 200 out of 200 | elapsed: 18.2min finished\n"
     ]
    },
    {
     "name": "stdout",
     "output_type": "stream",
     "text": [
      "{'C': 10, 'gamma': 1}\n"
     ]
    }
   ],
   "source": [
    "nfolds = 10\n",
    "Cs = [0.001, 0.01, 0.1, 1, 10]\n",
    "gammas = [0.001, 0.01, 0.1, 1]\n",
    "param_grid = {'C': Cs, 'gamma' : gammas}\n",
    "grid_search = GridSearchCV(svm.SVC(kernel='rbf'), param_grid, cv=nfolds,verbose=10,n_jobs= -1)\n",
    "grid_search.fit(X_train, y_train)\n",
    "grid_search.best_params_\n",
    "print(grid_search.best_params_)"
   ]
  },
  {
   "cell_type": "code",
   "execution_count": null,
   "metadata": {},
   "outputs": [],
   "source": [
    "\n",
    "def create_baseline():\n",
    "\n",
    "\tmodel = Sequential()\n",
    "\tmodel.add(Dense(10, input_dim=10, kernel_initializer='normal', activation='relu'))\n",
    "\tmodel.add(Dense(1, kernel_initializer='normal', activation='sigmoid'))\n",
    "\n",
    "\tmodel.compile(loss='binary_crossentropy', optimizer='adam', metrics=['accuracy'])\n",
    "\treturn model\n",
    "\n",
    "# evaluate model with standardized dataset\n",
    "estimator = KerasClassifier(build_fn=create_baseline, epochs=100, batch_size=5, verbose=0)\n",
    "kfold = StratifiedKFold(n_splits=10, shuffle=True, random_state=123)\n",
    "results = cross_val_score(estimator, X_train, y_train, cv=kfold)\n",
    "print(\"Results: %.2f%% (%.2f%%)\" % (results.mean()*100, results.std()*100))"
   ]
  },
  {
   "cell_type": "code",
   "execution_count": 621,
   "metadata": {},
   "outputs": [
    {
     "name": "stdout",
     "output_type": "stream",
     "text": [
      "[[4249  231]\n",
      " [1320  200]]\n",
      "              precision    recall  f1-score   support\n",
      "\n",
      "           0       0.76      0.95      0.85      4480\n",
      "           1       0.46      0.13      0.21      1520\n",
      "\n",
      "   micro avg       0.74      0.74      0.74      6000\n",
      "   macro avg       0.61      0.54      0.53      6000\n",
      "weighted avg       0.69      0.74      0.68      6000\n",
      "\n"
     ]
    }
   ],
   "source": [
    "from sklearn.metrics import classification_report\n",
    "from sklearn.metrics import confusion_matrix\n",
    "pred = gnb.predict(X_test)\n",
    "print(confusion_matrix(y_test, pred))\n",
    "print(classification_report(y_test, pred))"
   ]
  },
  {
   "cell_type": "markdown",
   "metadata": {},
   "source": [
    "### Lets save the model to file"
   ]
  },
  {
   "cell_type": "code",
   "execution_count": 626,
   "metadata": {},
   "outputs": [],
   "source": [
    "filename = 'finalized_model.sav'\n",
    "pickle.dump(lda, open(filename, 'wb'))\n",
    " "
   ]
  },
  {
   "cell_type": "markdown",
   "metadata": {},
   "source": [
    "#  <font color='red'>To run the model against unseen data, you can start executing cells from below</font>"
   ]
  },
  {
   "cell_type": "code",
   "execution_count": 627,
   "metadata": {},
   "outputs": [],
   "source": [
    "\n",
    "import pandas as pd;\n",
    "import numpy as np;\n",
    "from glob import glob;\n",
    "import time;\n",
    "import datetime;\n",
    "from sklearn.model_selection import train_test_split\n",
    "from sklearn.naive_bayes import GaussianNB\n",
    "from sklearn.metrics import accuracy_score\n",
    "import pickle\n",
    "from  sklearn.preprocessing import MinMaxScaler\n",
    "from sklearn.model_selection import GridSearchCV\n",
    "from keras.models import Sequential\n",
    "from keras.layers import Dense\n",
    "from keras.wrappers.scikit_learn import KerasClassifier\n",
    "from sklearn.model_selection import StratifiedKFold\n",
    "from sklearn.model_selection import cross_val_score"
   ]
  },
  {
   "cell_type": "markdown",
   "metadata": {},
   "source": [
    "###  Put the unseen data (against which my model to be evaluated) in unseenData.csv in the same format as that competition file part-00000-e6120af0-10c2-4248-97c4-81baf4304e5c-c000.csv"
   ]
  },
  {
   "cell_type": "code",
   "execution_count": 628,
   "metadata": {},
   "outputs": [],
   "source": [
    "    df = pd.read_csv(\"unseenData.csv\")                \n",
    "    perFileDf = pd.DataFrame()\n",
    "                \n",
    "    #df[\"speedFactor\"] = (np.sqrt((df['acceleration_x'])*(df['acceleration_x']) + (df['acceleration_y'])*(df['acceleration_y']) + (df['acceleration_z'])*(df['acceleration_z'])))/(10 + df[\"Speed\"])        \n",
    "    \n",
    "        \n",
    "    df[\"absAccX\"] = np.abs(df['acceleration_x'])\n",
    "    df[\"absAccY\"] = np.abs(df['acceleration_y'])\n",
    "    df[\"absAccZ\"] = np.abs(df['acceleration_z'])\n",
    "\n",
    "    df[\"absGyroX\"] = np.abs(df['gyro_x'])\n",
    "    df[\"absGyroY\"] = np.abs(df['gyro_y'])\n",
    "    df[\"absGyroZ\"] = np.abs(df['gyro_z'])\n",
    "    \n",
    "    df[\"speedFactor\"] = (np.sqrt((df['absAccX'])*(df['absAccX']) + (df['absAccY'])*(df['absAccY']) + (df['absAccZ'])*(df['absAccZ'])))/(1 + np.abs(df[\"Speed\"]))        \n",
    "                                \n",
    "    #newDf=df.groupby('bookingID').agg({'absAccX':'mean', 'absAccY':'mean','absAccZ':'mean','absGyroX':'mean', 'absGyroY':'mean','absGyroZ':'mean','speedFactor':'mean'})\n",
    "    newDf=df.groupby('bookingID').agg({'absAccX':'mean', 'absAccY':'mean','absAccZ':'mean','absGyroX':'mean', 'absGyroY':'mean','absGyroZ':'mean','Speed':'mean','speedFactor':'mean'})\n",
    "    newDf = newDf.reset_index()\n",
    "    perFileDf =  perFileDf.append(newDf)"
   ]
  },
  {
   "cell_type": "code",
   "execution_count": 629,
   "metadata": {},
   "outputs": [
    {
     "data": {
      "text/html": [
       "<div>\n",
       "<style scoped>\n",
       "    .dataframe tbody tr th:only-of-type {\n",
       "        vertical-align: middle;\n",
       "    }\n",
       "\n",
       "    .dataframe tbody tr th {\n",
       "        vertical-align: top;\n",
       "    }\n",
       "\n",
       "    .dataframe thead th {\n",
       "        text-align: right;\n",
       "    }\n",
       "</style>\n",
       "<table border=\"1\" class=\"dataframe\">\n",
       "  <thead>\n",
       "    <tr style=\"text-align: right;\">\n",
       "      <th></th>\n",
       "      <th>bookingID</th>\n",
       "      <th>absAccX</th>\n",
       "      <th>absAccY</th>\n",
       "      <th>absAccZ</th>\n",
       "      <th>absGyroX</th>\n",
       "      <th>absGyroY</th>\n",
       "      <th>absGyroZ</th>\n",
       "      <th>Speed</th>\n",
       "      <th>speedFactor</th>\n",
       "    </tr>\n",
       "  </thead>\n",
       "  <tbody>\n",
       "    <tr>\n",
       "      <th>0</th>\n",
       "      <td>0</td>\n",
       "      <td>0.917439</td>\n",
       "      <td>9.588628</td>\n",
       "      <td>1.618996</td>\n",
       "      <td>0.036449</td>\n",
       "      <td>0.063380</td>\n",
       "      <td>0.039019</td>\n",
       "      <td>8.786820</td>\n",
       "      <td>2.961779</td>\n",
       "    </tr>\n",
       "    <tr>\n",
       "      <th>1</th>\n",
       "      <td>1</td>\n",
       "      <td>0.590331</td>\n",
       "      <td>9.462895</td>\n",
       "      <td>2.192611</td>\n",
       "      <td>0.018621</td>\n",
       "      <td>0.040373</td>\n",
       "      <td>0.022342</td>\n",
       "      <td>8.564105</td>\n",
       "      <td>3.013037</td>\n",
       "    </tr>\n",
       "    <tr>\n",
       "      <th>2</th>\n",
       "      <td>2</td>\n",
       "      <td>0.587353</td>\n",
       "      <td>9.792962</td>\n",
       "      <td>0.792379</td>\n",
       "      <td>0.031081</td>\n",
       "      <td>0.105638</td>\n",
       "      <td>0.019730</td>\n",
       "      <td>3.417660</td>\n",
       "      <td>4.054655</td>\n",
       "    </tr>\n",
       "    <tr>\n",
       "      <th>3</th>\n",
       "      <td>4</td>\n",
       "      <td>0.522485</td>\n",
       "      <td>9.433036</td>\n",
       "      <td>2.594428</td>\n",
       "      <td>0.037383</td>\n",
       "      <td>0.078418</td>\n",
       "      <td>0.045463</td>\n",
       "      <td>6.219018</td>\n",
       "      <td>2.573693</td>\n",
       "    </tr>\n",
       "    <tr>\n",
       "      <th>4</th>\n",
       "      <td>6</td>\n",
       "      <td>0.628562</td>\n",
       "      <td>9.521509</td>\n",
       "      <td>2.407400</td>\n",
       "      <td>0.038918</td>\n",
       "      <td>0.052217</td>\n",
       "      <td>0.032318</td>\n",
       "      <td>4.386527</td>\n",
       "      <td>5.326274</td>\n",
       "    </tr>\n",
       "  </tbody>\n",
       "</table>\n",
       "</div>"
      ],
      "text/plain": [
       "   bookingID   absAccX   absAccY   absAccZ  absGyroX  absGyroY  absGyroZ  \\\n",
       "0          0  0.917439  9.588628  1.618996  0.036449  0.063380  0.039019   \n",
       "1          1  0.590331  9.462895  2.192611  0.018621  0.040373  0.022342   \n",
       "2          2  0.587353  9.792962  0.792379  0.031081  0.105638  0.019730   \n",
       "3          4  0.522485  9.433036  2.594428  0.037383  0.078418  0.045463   \n",
       "4          6  0.628562  9.521509  2.407400  0.038918  0.052217  0.032318   \n",
       "\n",
       "      Speed  speedFactor  \n",
       "0  8.786820     2.961779  \n",
       "1  8.564105     3.013037  \n",
       "2  3.417660     4.054655  \n",
       "3  6.219018     2.573693  \n",
       "4  4.386527     5.326274  "
      ]
     },
     "execution_count": 629,
     "metadata": {},
     "output_type": "execute_result"
    }
   ],
   "source": [
    "perFileDf.head()\n"
   ]
  },
  {
   "cell_type": "code",
   "execution_count": 630,
   "metadata": {},
   "outputs": [],
   "source": [
    "allColumns = perFileDf.columns\n",
    "excludeLabels = [\"bookingID\",\"label\"]"
   ]
  },
  {
   "cell_type": "code",
   "execution_count": 631,
   "metadata": {},
   "outputs": [],
   "source": [
    "featuresCol = [eachCol for eachCol in allColumns if eachCol not in excludeLabels]"
   ]
  },
  {
   "cell_type": "code",
   "execution_count": 633,
   "metadata": {},
   "outputs": [
    {
     "name": "stdout",
     "output_type": "stream",
     "text": [
      "This is the model prediction\n",
      "[1 1 0 ... 1 0 0]\n"
     ]
    }
   ],
   "source": [
    "filename = 'finalized_model.sav'\n",
    "loaded_model = pickle.load(open(filename, 'rb'))\n",
    "result = loaded_model.predict(perFileDf[featuresCol])\n",
    "print(\"This is the model prediction\")\n",
    "print(result)"
   ]
  },
  {
   "cell_type": "code",
   "execution_count": null,
   "metadata": {},
   "outputs": [],
   "source": []
  },
  {
   "cell_type": "code",
   "execution_count": null,
   "metadata": {},
   "outputs": [],
   "source": []
  }
 ],
 "metadata": {
  "kernelspec": {
   "display_name": "Python 3",
   "language": "python",
   "name": "python3"
  },
  "language_info": {
   "codemirror_mode": {
    "name": "ipython",
    "version": 3
   },
   "file_extension": ".py",
   "mimetype": "text/x-python",
   "name": "python",
   "nbconvert_exporter": "python",
   "pygments_lexer": "ipython3",
   "version": "3.6.7"
  }
 },
 "nbformat": 4,
 "nbformat_minor": 2
}
