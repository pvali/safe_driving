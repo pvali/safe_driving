{
 "cells": [
  {
   "cell_type": "code",
   "execution_count": 174,
   "metadata": {},
   "outputs": [],
   "source": [
    "import pandas as pd;\n",
    "import numpy as np;\n",
    "from glob import glob;\n",
    "import time;\n",
    "import datetime;\n",
    "from sklearn.model_selection import train_test_split\n",
    "from sklearn.naive_bayes import GaussianNB\n",
    "from sklearn.metrics import accuracy_score\n",
    "import pickle"
   ]
  },
  {
   "cell_type": "code",
   "execution_count": 87,
   "metadata": {},
   "outputs": [
    {
     "name": "stdout",
     "output_type": "stream",
     "text": [
      "18:55:12.105282\n",
      "Started processing the file : part-00009-e6120af0-10c2-4248-97c4-81baf4304e5c-c000.csv\n",
      "Done with file : part-00009-e6120af0-10c2-4248-97c4-81baf4304e5c-c000.csv\n",
      "Time to process file : part-00009-e6120af0-10c2-4248-97c4-81baf4304e5c-c000.csv is 14.27955150604248\n",
      "Time to write Df file : df_part-00009-e6120af0-10c2-4248-97c4-81baf4304e5c-c000.csv is 1.20078706741333\n",
      "18:55:27.591669\n",
      "End of the program\n"
     ]
    }
   ],
   "source": [
    "print(datetime.datetime.now().time())\n",
    "for fil in glob('part-0000*.csv'):    \n",
    "    perFileDf = pd.DataFrame()\n",
    "    start_time = time.time()\n",
    "    print (\"Started processing the file : \"+ fil)\n",
    "    for df in pd.read_csv(fil,iterator=True,chunksize=10000000):                \n",
    "                \n",
    "        df[\"speedFactor\"] = (np.sqrt((df['acceleration_x'])*(df['acceleration_x']) + (df['acceleration_y'])*(df['acceleration_y']) + (df['acceleration_z'])*(df['acceleration_z'])))/(10 + df[\"Speed\"])        \n",
    "        \n",
    "        df[\"absAccX\"] = np.abs(df['acceleration_x'])\n",
    "        df[\"absAccY\"] = np.abs(df['acceleration_y'])\n",
    "        df[\"absAccZ\"] = np.abs(df['acceleration_z'])\n",
    "\n",
    "        df[\"absGyroX\"] = np.abs(df['gyro_x'])\n",
    "        df[\"absGyroY\"] = np.abs(df['gyro_y'])\n",
    "        df[\"absGyroZ\"] = np.abs(df['gyro_z'])\n",
    "                                \n",
    "        #print (df[\"speedFactor\"].describe(include='all'))\n",
    "        #print (\"==========\")\n",
    "        newDf=df.groupby('bookingID').agg({'absAccX':'mean', 'absAccY':'mean','absAccZ':'mean','absGyroX':'mean', 'absGyroY':'mean','absGyroZ':'mean','speedFactor':'mean'})\n",
    "        newDf = newDf.reset_index()\n",
    "        #print (newDf.head())\n",
    "        #print (\"***************\")\n",
    "        perFileDf =  perFileDf.append(newDf)       \n",
    "    \n",
    "    print (\"Done with file : \"+ fil)   \n",
    "    elapsed_time = time.time() - start_time\n",
    "    print (\"Time to process file : \" + str(fil)  + \" is \" + str(elapsed_time))\n",
    "    start_time = time.time()\n",
    "    perFileDf.to_csv(\"df_\"+fil)\n",
    "    elapsed_time = time.time() - start_time\n",
    "    print (\"Time to write Df file : \" + \"df_\"+str(fil)  + \" is \" + str(elapsed_time))\n",
    "\n",
    "print(datetime.datetime.now().time())\n",
    "print(\"End of phase-1\")"
   ]
  },
  {
   "cell_type": "code",
   "execution_count": 97,
   "metadata": {},
   "outputs": [
    {
     "name": "stdout",
     "output_type": "stream",
     "text": [
      "19:14:36.086200\n",
      "Started processing the file : df_part-00000-e6120af0-10c2-4248-97c4-81baf4304e5c-c000.csv\n",
      "Current Df shape(20000, 9)\n",
      "Consolidated Df shape(20000, 9)\n",
      "Done processing the file : df_part-00000-e6120af0-10c2-4248-97c4-81baf4304e5c-c000.csv\n",
      "Time to process file : df_part-00000-e6120af0-10c2-4248-97c4-81baf4304e5c-c000.csv is 0.19759488105773926\n",
      "Started processing the file : df_part-00001-e6120af0-10c2-4248-97c4-81baf4304e5c-c000.csv\n",
      "Current Df shape(20000, 9)\n",
      "Consolidated Df shape(40000, 9)\n",
      "Done processing the file : df_part-00001-e6120af0-10c2-4248-97c4-81baf4304e5c-c000.csv\n",
      "Time to process file : df_part-00001-e6120af0-10c2-4248-97c4-81baf4304e5c-c000.csv is 0.1946403980255127\n",
      "Started processing the file : df_part-00002-e6120af0-10c2-4248-97c4-81baf4304e5c-c000.csv\n",
      "Current Df shape(20000, 9)\n",
      "Consolidated Df shape(60000, 9)\n",
      "Done processing the file : df_part-00002-e6120af0-10c2-4248-97c4-81baf4304e5c-c000.csv\n",
      "Time to process file : df_part-00002-e6120af0-10c2-4248-97c4-81baf4304e5c-c000.csv is 0.19658589363098145\n",
      "Started processing the file : df_part-00003-e6120af0-10c2-4248-97c4-81baf4304e5c-c000.csv\n",
      "Current Df shape(20000, 9)\n",
      "Consolidated Df shape(80000, 9)\n",
      "Done processing the file : df_part-00003-e6120af0-10c2-4248-97c4-81baf4304e5c-c000.csv\n",
      "Time to process file : df_part-00003-e6120af0-10c2-4248-97c4-81baf4304e5c-c000.csv is 0.20818662643432617\n",
      "Started processing the file : df_part-00004-e6120af0-10c2-4248-97c4-81baf4304e5c-c000.csv\n",
      "Current Df shape(20000, 9)\n",
      "Consolidated Df shape(100000, 9)\n",
      "Done processing the file : df_part-00004-e6120af0-10c2-4248-97c4-81baf4304e5c-c000.csv\n",
      "Time to process file : df_part-00004-e6120af0-10c2-4248-97c4-81baf4304e5c-c000.csv is 0.21112728118896484\n",
      "Started processing the file : df_part-00005-e6120af0-10c2-4248-97c4-81baf4304e5c-c000.csv\n",
      "Current Df shape(20000, 9)\n",
      "Consolidated Df shape(120000, 9)\n",
      "Done processing the file : df_part-00005-e6120af0-10c2-4248-97c4-81baf4304e5c-c000.csv\n",
      "Time to process file : df_part-00005-e6120af0-10c2-4248-97c4-81baf4304e5c-c000.csv is 0.21683144569396973\n",
      "Started processing the file : df_part-00006-e6120af0-10c2-4248-97c4-81baf4304e5c-c000.csv\n",
      "Current Df shape(20000, 9)\n",
      "Consolidated Df shape(140000, 9)\n",
      "Done processing the file : df_part-00006-e6120af0-10c2-4248-97c4-81baf4304e5c-c000.csv\n",
      "Time to process file : df_part-00006-e6120af0-10c2-4248-97c4-81baf4304e5c-c000.csv is 0.21213102340698242\n",
      "Started processing the file : df_part-00007-e6120af0-10c2-4248-97c4-81baf4304e5c-c000.csv\n",
      "Current Df shape(20000, 9)\n",
      "Consolidated Df shape(160000, 9)\n",
      "Done processing the file : df_part-00007-e6120af0-10c2-4248-97c4-81baf4304e5c-c000.csv\n",
      "Time to process file : df_part-00007-e6120af0-10c2-4248-97c4-81baf4304e5c-c000.csv is 0.25034475326538086\n",
      "Started processing the file : df_part-00008-e6120af0-10c2-4248-97c4-81baf4304e5c-c000.csv\n",
      "Current Df shape(20000, 9)\n",
      "Consolidated Df shape(180000, 9)\n",
      "Done processing the file : df_part-00008-e6120af0-10c2-4248-97c4-81baf4304e5c-c000.csv\n",
      "Time to process file : df_part-00008-e6120af0-10c2-4248-97c4-81baf4304e5c-c000.csv is 0.21927833557128906\n",
      "Started processing the file : df_part-00009-e6120af0-10c2-4248-97c4-81baf4304e5c-c000.csv\n",
      "Current Df shape(20000, 9)\n",
      "Consolidated Df shape(200000, 9)\n",
      "Done processing the file : df_part-00009-e6120af0-10c2-4248-97c4-81baf4304e5c-c000.csv\n",
      "Time to process file : df_part-00009-e6120af0-10c2-4248-97c4-81baf4304e5c-c000.csv is 0.21814513206481934\n",
      "After Consolidated Df shape(20000, 7)\n",
      "19:14:51.746515\n",
      "End of phase-2\n"
     ]
    }
   ],
   "source": [
    "print(datetime.datetime.now().time())\n",
    "consolidatedDf = pd.DataFrame()\n",
    "for fil in glob('df_part-0000*.csv'):    \n",
    "    start_time = time.time()\n",
    "    print (\"Started processing the file : \"+ fil)\n",
    "    for df in pd.read_csv(fil,iterator=True,chunksize=10000000):                \n",
    "        print (\"Current Df shape\" + str(df.shape))\n",
    "        consolidatedDf = consolidatedDf.append(df)               \n",
    "        print (\"Consolidated Df shape\" + str(consolidatedDf.shape))\n",
    "    print (\"Done processing the file : \"+ fil)    \n",
    "    elapsed_time = time.time() - start_time\n",
    "    print (\"Time to process file : \" + str(fil)  + \" is \" + str(elapsed_time))    \n",
    "\n",
    "consolidatedDf.to_csv(\"consolidatedDf.csv\")\n",
    "grpConsolidatedDf =consolidatedDf.groupby('bookingID').agg({'absAccX':'mean', 'absAccY':'mean','absAccZ':'mean','absGyroX':'mean', 'absGyroY':'mean','absGyroZ':'mean','speedFactor':'mean'})\n",
    "print (\"After Consolidated Df shape\" + str(grpConsolidatedDf.shape))\n",
    "grpConsolidatedDf.to_csv(\"grpConsolidatedDf.csv\")\n",
    "print(datetime.datetime.now().time())\n",
    "\n",
    "print(\"End of phase-2\")"
   ]
  },
  {
   "cell_type": "code",
   "execution_count": 98,
   "metadata": {},
   "outputs": [],
   "source": [
    "grpDf =  pd.read_csv(\"grpConsolidatedDf.csv\")                "
   ]
  },
  {
   "cell_type": "code",
   "execution_count": 105,
   "metadata": {},
   "outputs": [
    {
     "data": {
      "text/html": [
       "<div>\n",
       "<style scoped>\n",
       "    .dataframe tbody tr th:only-of-type {\n",
       "        vertical-align: middle;\n",
       "    }\n",
       "\n",
       "    .dataframe tbody tr th {\n",
       "        vertical-align: top;\n",
       "    }\n",
       "\n",
       "    .dataframe thead th {\n",
       "        text-align: right;\n",
       "    }\n",
       "</style>\n",
       "<table border=\"1\" class=\"dataframe\">\n",
       "  <thead>\n",
       "    <tr style=\"text-align: right;\">\n",
       "      <th></th>\n",
       "      <th>bookingID</th>\n",
       "      <th>absAccX</th>\n",
       "      <th>absAccY</th>\n",
       "      <th>absAccZ</th>\n",
       "      <th>absGyroX</th>\n",
       "      <th>absGyroY</th>\n",
       "      <th>absGyroZ</th>\n",
       "      <th>speedFactor</th>\n",
       "    </tr>\n",
       "  </thead>\n",
       "  <tbody>\n",
       "    <tr>\n",
       "      <th>0</th>\n",
       "      <td>0</td>\n",
       "      <td>0.949421</td>\n",
       "      <td>9.613351</td>\n",
       "      <td>1.719109</td>\n",
       "      <td>0.045798</td>\n",
       "      <td>0.065211</td>\n",
       "      <td>0.041457</td>\n",
       "      <td>0.608393</td>\n",
       "    </tr>\n",
       "    <tr>\n",
       "      <th>1</th>\n",
       "      <td>1</td>\n",
       "      <td>0.689900</td>\n",
       "      <td>9.533160</td>\n",
       "      <td>2.210323</td>\n",
       "      <td>0.019148</td>\n",
       "      <td>0.051652</td>\n",
       "      <td>0.022696</td>\n",
       "      <td>0.646962</td>\n",
       "    </tr>\n",
       "    <tr>\n",
       "      <th>2</th>\n",
       "      <td>2</td>\n",
       "      <td>0.680615</td>\n",
       "      <td>9.836529</td>\n",
       "      <td>0.817351</td>\n",
       "      <td>0.030824</td>\n",
       "      <td>0.072603</td>\n",
       "      <td>0.021394</td>\n",
       "      <td>0.790034</td>\n",
       "    </tr>\n",
       "    <tr>\n",
       "      <th>3</th>\n",
       "      <td>4</td>\n",
       "      <td>0.500273</td>\n",
       "      <td>9.406281</td>\n",
       "      <td>2.614858</td>\n",
       "      <td>0.033129</td>\n",
       "      <td>0.078610</td>\n",
       "      <td>0.045195</td>\n",
       "      <td>0.672072</td>\n",
       "    </tr>\n",
       "    <tr>\n",
       "      <th>4</th>\n",
       "      <td>6</td>\n",
       "      <td>0.712031</td>\n",
       "      <td>9.539419</td>\n",
       "      <td>2.371988</td>\n",
       "      <td>0.037086</td>\n",
       "      <td>0.056860</td>\n",
       "      <td>0.035974</td>\n",
       "      <td>0.759399</td>\n",
       "    </tr>\n",
       "  </tbody>\n",
       "</table>\n",
       "</div>"
      ],
      "text/plain": [
       "   bookingID   absAccX   absAccY   absAccZ  absGyroX  absGyroY  absGyroZ  \\\n",
       "0          0  0.949421  9.613351  1.719109  0.045798  0.065211  0.041457   \n",
       "1          1  0.689900  9.533160  2.210323  0.019148  0.051652  0.022696   \n",
       "2          2  0.680615  9.836529  0.817351  0.030824  0.072603  0.021394   \n",
       "3          4  0.500273  9.406281  2.614858  0.033129  0.078610  0.045195   \n",
       "4          6  0.712031  9.539419  2.371988  0.037086  0.056860  0.035974   \n",
       "\n",
       "   speedFactor  \n",
       "0     0.608393  \n",
       "1     0.646962  \n",
       "2     0.790034  \n",
       "3     0.672072  \n",
       "4     0.759399  "
      ]
     },
     "execution_count": 105,
     "metadata": {},
     "output_type": "execute_result"
    }
   ],
   "source": [
    "grpDf.head()"
   ]
  },
  {
   "cell_type": "code",
   "execution_count": 106,
   "metadata": {},
   "outputs": [
    {
     "data": {
      "text/plain": [
       "(20000, 8)"
      ]
     },
     "execution_count": 106,
     "metadata": {},
     "output_type": "execute_result"
    }
   ],
   "source": [
    "grpDf.shape"
   ]
  },
  {
   "cell_type": "code",
   "execution_count": 100,
   "metadata": {},
   "outputs": [],
   "source": [
    "labelDf = pd.read_csv('labels.csv')"
   ]
  },
  {
   "cell_type": "code",
   "execution_count": 107,
   "metadata": {},
   "outputs": [
    {
     "data": {
      "text/html": [
       "<div>\n",
       "<style scoped>\n",
       "    .dataframe tbody tr th:only-of-type {\n",
       "        vertical-align: middle;\n",
       "    }\n",
       "\n",
       "    .dataframe tbody tr th {\n",
       "        vertical-align: top;\n",
       "    }\n",
       "\n",
       "    .dataframe thead th {\n",
       "        text-align: right;\n",
       "    }\n",
       "</style>\n",
       "<table border=\"1\" class=\"dataframe\">\n",
       "  <thead>\n",
       "    <tr style=\"text-align: right;\">\n",
       "      <th></th>\n",
       "      <th>bookingID</th>\n",
       "      <th>label</th>\n",
       "    </tr>\n",
       "  </thead>\n",
       "  <tbody>\n",
       "    <tr>\n",
       "      <th>0</th>\n",
       "      <td>111669149733</td>\n",
       "      <td>0</td>\n",
       "    </tr>\n",
       "    <tr>\n",
       "      <th>1</th>\n",
       "      <td>335007449205</td>\n",
       "      <td>1</td>\n",
       "    </tr>\n",
       "    <tr>\n",
       "      <th>2</th>\n",
       "      <td>171798691856</td>\n",
       "      <td>0</td>\n",
       "    </tr>\n",
       "    <tr>\n",
       "      <th>3</th>\n",
       "      <td>1520418422900</td>\n",
       "      <td>0</td>\n",
       "    </tr>\n",
       "    <tr>\n",
       "      <th>4</th>\n",
       "      <td>798863917116</td>\n",
       "      <td>0</td>\n",
       "    </tr>\n",
       "  </tbody>\n",
       "</table>\n",
       "</div>"
      ],
      "text/plain": [
       "       bookingID  label\n",
       "0   111669149733      0\n",
       "1   335007449205      1\n",
       "2   171798691856      0\n",
       "3  1520418422900      0\n",
       "4   798863917116      0"
      ]
     },
     "execution_count": 107,
     "metadata": {},
     "output_type": "execute_result"
    }
   ],
   "source": [
    "labelDf.head()"
   ]
  },
  {
   "cell_type": "code",
   "execution_count": 101,
   "metadata": {},
   "outputs": [
    {
     "data": {
      "text/plain": [
       "(20018, 2)"
      ]
     },
     "execution_count": 101,
     "metadata": {},
     "output_type": "execute_result"
    }
   ],
   "source": [
    "labelDf.shape"
   ]
  },
  {
   "cell_type": "code",
   "execution_count": 102,
   "metadata": {},
   "outputs": [],
   "source": [
    "labelDf.drop_duplicates(subset=['bookingID'],inplace=True,keep='first')"
   ]
  },
  {
   "cell_type": "code",
   "execution_count": 103,
   "metadata": {},
   "outputs": [
    {
     "data": {
      "text/plain": [
       "(20000, 2)"
      ]
     },
     "execution_count": 103,
     "metadata": {},
     "output_type": "execute_result"
    }
   ],
   "source": [
    "labelDf.shape"
   ]
  },
  {
   "cell_type": "code",
   "execution_count": 108,
   "metadata": {},
   "outputs": [],
   "source": [
    "withLabelDf = pd.merge(labelDf,grpDf,on=\"bookingID\")"
   ]
  },
  {
   "cell_type": "code",
   "execution_count": 109,
   "metadata": {},
   "outputs": [
    {
     "data": {
      "text/html": [
       "<div>\n",
       "<style scoped>\n",
       "    .dataframe tbody tr th:only-of-type {\n",
       "        vertical-align: middle;\n",
       "    }\n",
       "\n",
       "    .dataframe tbody tr th {\n",
       "        vertical-align: top;\n",
       "    }\n",
       "\n",
       "    .dataframe thead th {\n",
       "        text-align: right;\n",
       "    }\n",
       "</style>\n",
       "<table border=\"1\" class=\"dataframe\">\n",
       "  <thead>\n",
       "    <tr style=\"text-align: right;\">\n",
       "      <th></th>\n",
       "      <th>bookingID</th>\n",
       "      <th>label</th>\n",
       "      <th>absAccX</th>\n",
       "      <th>absAccY</th>\n",
       "      <th>absAccZ</th>\n",
       "      <th>absGyroX</th>\n",
       "      <th>absGyroY</th>\n",
       "      <th>absGyroZ</th>\n",
       "      <th>speedFactor</th>\n",
       "    </tr>\n",
       "  </thead>\n",
       "  <tbody>\n",
       "    <tr>\n",
       "      <th>0</th>\n",
       "      <td>111669149733</td>\n",
       "      <td>0</td>\n",
       "      <td>0.431805</td>\n",
       "      <td>9.772918</td>\n",
       "      <td>0.501404</td>\n",
       "      <td>0.012076</td>\n",
       "      <td>0.038197</td>\n",
       "      <td>0.017437</td>\n",
       "      <td>0.730968</td>\n",
       "    </tr>\n",
       "    <tr>\n",
       "      <th>1</th>\n",
       "      <td>335007449205</td>\n",
       "      <td>1</td>\n",
       "      <td>0.808001</td>\n",
       "      <td>9.556147</td>\n",
       "      <td>1.302383</td>\n",
       "      <td>0.042814</td>\n",
       "      <td>0.097799</td>\n",
       "      <td>0.017730</td>\n",
       "      <td>0.696000</td>\n",
       "    </tr>\n",
       "    <tr>\n",
       "      <th>2</th>\n",
       "      <td>171798691856</td>\n",
       "      <td>0</td>\n",
       "      <td>0.502351</td>\n",
       "      <td>9.622856</td>\n",
       "      <td>0.381445</td>\n",
       "      <td>0.037971</td>\n",
       "      <td>0.037069</td>\n",
       "      <td>0.044509</td>\n",
       "      <td>0.427330</td>\n",
       "    </tr>\n",
       "    <tr>\n",
       "      <th>3</th>\n",
       "      <td>1520418422900</td>\n",
       "      <td>0</td>\n",
       "      <td>0.735054</td>\n",
       "      <td>9.826257</td>\n",
       "      <td>0.840202</td>\n",
       "      <td>0.021369</td>\n",
       "      <td>0.047734</td>\n",
       "      <td>0.024141</td>\n",
       "      <td>0.510179</td>\n",
       "    </tr>\n",
       "    <tr>\n",
       "      <th>4</th>\n",
       "      <td>798863917116</td>\n",
       "      <td>0</td>\n",
       "      <td>1.037894</td>\n",
       "      <td>9.617190</td>\n",
       "      <td>1.417894</td>\n",
       "      <td>0.074643</td>\n",
       "      <td>0.077951</td>\n",
       "      <td>0.018139</td>\n",
       "      <td>0.615477</td>\n",
       "    </tr>\n",
       "  </tbody>\n",
       "</table>\n",
       "</div>"
      ],
      "text/plain": [
       "       bookingID  label   absAccX   absAccY   absAccZ  absGyroX  absGyroY  \\\n",
       "0   111669149733      0  0.431805  9.772918  0.501404  0.012076  0.038197   \n",
       "1   335007449205      1  0.808001  9.556147  1.302383  0.042814  0.097799   \n",
       "2   171798691856      0  0.502351  9.622856  0.381445  0.037971  0.037069   \n",
       "3  1520418422900      0  0.735054  9.826257  0.840202  0.021369  0.047734   \n",
       "4   798863917116      0  1.037894  9.617190  1.417894  0.074643  0.077951   \n",
       "\n",
       "   absGyroZ  speedFactor  \n",
       "0  0.017437     0.730968  \n",
       "1  0.017730     0.696000  \n",
       "2  0.044509     0.427330  \n",
       "3  0.024141     0.510179  \n",
       "4  0.018139     0.615477  "
      ]
     },
     "execution_count": 109,
     "metadata": {},
     "output_type": "execute_result"
    }
   ],
   "source": [
    "withLabelDf.head()"
   ]
  },
  {
   "cell_type": "code",
   "execution_count": 111,
   "metadata": {},
   "outputs": [],
   "source": [
    "labelDf.to_csv(\"labels_df.csv\")"
   ]
  },
  {
   "cell_type": "code",
   "execution_count": 112,
   "metadata": {},
   "outputs": [],
   "source": [
    "withLabelDf.to_csv(\"withLabel_df.csv\")"
   ]
  },
  {
   "cell_type": "markdown",
   "metadata": {},
   "source": [
    "### Preprocssing is done, now lets apply the classification algorithm"
   ]
  },
  {
   "cell_type": "code",
   "execution_count": 132,
   "metadata": {},
   "outputs": [],
   "source": [
    "allColumns = withLabelDf.columns"
   ]
  },
  {
   "cell_type": "code",
   "execution_count": 133,
   "metadata": {},
   "outputs": [],
   "source": [
    "excludeLabels = [\"bookingID\",\"label\"]"
   ]
  },
  {
   "cell_type": "code",
   "execution_count": 135,
   "metadata": {},
   "outputs": [],
   "source": [
    "featuresCol = [eachCol for eachCol in allColumns if eachCol not in excludeLabels]"
   ]
  },
  {
   "cell_type": "code",
   "execution_count": 136,
   "metadata": {},
   "outputs": [
    {
     "data": {
      "text/plain": [
       "['absAccX',\n",
       " 'absAccY',\n",
       " 'absAccZ',\n",
       " 'absGyroX',\n",
       " 'absGyroY',\n",
       " 'absGyroZ',\n",
       " 'speedFactor']"
      ]
     },
     "execution_count": 136,
     "metadata": {},
     "output_type": "execute_result"
    }
   ],
   "source": [
    "featuresCol"
   ]
  },
  {
   "cell_type": "code",
   "execution_count": 160,
   "metadata": {},
   "outputs": [],
   "source": [
    " X_train, X_test, y_train, y_test = train_test_split(withLabelDf[featuresCol],withLabelDf['label'],test_size=0.3, random_state=8912)"
   ]
  },
  {
   "cell_type": "code",
   "execution_count": 165,
   "metadata": {},
   "outputs": [
    {
     "data": {
      "text/plain": [
       "11635    0\n",
       "19216    0\n",
       "6751     0\n",
       "4248     0\n",
       "9921     0\n",
       "17523    1\n",
       "6205     0\n",
       "17193    0\n",
       "17783    0\n",
       "3912     1\n",
       "13521    0\n",
       "5338     0\n",
       "3028     0\n",
       "17265    0\n",
       "10740    0\n",
       "10000    0\n",
       "7674     0\n",
       "8373     1\n",
       "18408    0\n",
       "12736    0\n",
       "6633     0\n",
       "7684     0\n",
       "10419    0\n",
       "19721    0\n",
       "18393    0\n",
       "14055    0\n",
       "13602    0\n",
       "814      0\n",
       "12119    0\n",
       "18804    1\n",
       "        ..\n",
       "3530     0\n",
       "6511     1\n",
       "1561     1\n",
       "17188    1\n",
       "12323    0\n",
       "17664    0\n",
       "6077     0\n",
       "17971    0\n",
       "11632    0\n",
       "9688     0\n",
       "18357    1\n",
       "13332    1\n",
       "257      1\n",
       "3457     0\n",
       "671      0\n",
       "12705    0\n",
       "13081    1\n",
       "13881    0\n",
       "1102     1\n",
       "3331     0\n",
       "12697    0\n",
       "188      1\n",
       "15789    0\n",
       "8561     0\n",
       "11101    0\n",
       "4583     0\n",
       "13341    1\n",
       "10512    0\n",
       "8838     0\n",
       "16637    0\n",
       "Name: label, Length: 6000, dtype: int64"
      ]
     },
     "execution_count": 165,
     "metadata": {},
     "output_type": "execute_result"
    }
   ],
   "source": [
    "y_test"
   ]
  },
  {
   "cell_type": "code",
   "execution_count": 149,
   "metadata": {},
   "outputs": [],
   "source": [
    "gnb= GaussianNB()"
   ]
  },
  {
   "cell_type": "code",
   "execution_count": 166,
   "metadata": {},
   "outputs": [
    {
     "name": "stdout",
     "output_type": "stream",
     "text": [
      "[0 0 0 ... 0 0 0]\n",
      "0.7441666666666666\n"
     ]
    }
   ],
   "source": [
    "model = gnb.fit(X_train, y_train)\n",
    "\n",
    "# Make predictions\n",
    "preds = gnb.predict(X_test)\n",
    "print(preds)\n",
    "\n",
    "# Evaluate accuracy\n",
    "print(accuracy_score(y_test, preds))"
   ]
  },
  {
   "cell_type": "code",
   "execution_count": 167,
   "metadata": {},
   "outputs": [
    {
     "name": "stdout",
     "output_type": "stream",
     "text": [
      "Accuracy of Decision Tree classifier on training set: 1.00\n",
      "Accuracy of Decision Tree classifier on test set: 0.64\n"
     ]
    }
   ],
   "source": [
    "from sklearn.tree import DecisionTreeClassifier\n",
    "clf = DecisionTreeClassifier().fit(X_train, y_train)\n",
    "print('Accuracy of Decision Tree classifier on training set: {:.2f}'\n",
    "     .format(clf.score(X_train, y_train)))\n",
    "print('Accuracy of Decision Tree classifier on test set: {:.2f}'\n",
    "     .format(clf.score(X_test, y_test)))"
   ]
  },
  {
   "cell_type": "code",
   "execution_count": 168,
   "metadata": {},
   "outputs": [
    {
     "name": "stdout",
     "output_type": "stream",
     "text": [
      "Accuracy of K-NN classifier on training set: 0.79\n",
      "Accuracy of K-NN classifier on test set: 0.72\n"
     ]
    }
   ],
   "source": [
    "from sklearn.neighbors import KNeighborsClassifier\n",
    "knn = KNeighborsClassifier()\n",
    "knn.fit(X_train, y_train)\n",
    "print('Accuracy of K-NN classifier on training set: {:.2f}'\n",
    "     .format(knn.score(X_train, y_train)))\n",
    "print('Accuracy of K-NN classifier on test set: {:.2f}'\n",
    "     .format(knn.score(X_test, y_test)))"
   ]
  },
  {
   "cell_type": "code",
   "execution_count": 169,
   "metadata": {},
   "outputs": [
    {
     "name": "stdout",
     "output_type": "stream",
     "text": [
      "Accuracy of LDA classifier on training set: 0.76\n",
      "Accuracy of LDA classifier on test set: 0.76\n"
     ]
    }
   ],
   "source": [
    "from sklearn.discriminant_analysis import LinearDiscriminantAnalysis\n",
    "lda = LinearDiscriminantAnalysis()\n",
    "lda.fit(X_train, y_train)\n",
    "print('Accuracy of LDA classifier on training set: {:.2f}'\n",
    "     .format(lda.score(X_train, y_train)))\n",
    "print('Accuracy of LDA classifier on test set: {:.2f}'\n",
    "     .format(lda.score(X_test, y_test)))"
   ]
  },
  {
   "cell_type": "code",
   "execution_count": 170,
   "metadata": {},
   "outputs": [
    {
     "name": "stdout",
     "output_type": "stream",
     "text": [
      "Accuracy of GNB classifier on training set: 0.75\n",
      "Accuracy of GNB classifier on test set: 0.74\n"
     ]
    }
   ],
   "source": [
    "from sklearn.naive_bayes import GaussianNB\n",
    "gnb = GaussianNB()\n",
    "gnb.fit(X_train, y_train)\n",
    "print('Accuracy of GNB classifier on training set: {:.2f}'\n",
    "     .format(gnb.score(X_train, y_train)))\n",
    "print('Accuracy of GNB classifier on test set: {:.2f}'\n",
    "     .format(gnb.score(X_test, y_test)))"
   ]
  },
  {
   "cell_type": "code",
   "execution_count": 171,
   "metadata": {},
   "outputs": [
    {
     "name": "stderr",
     "output_type": "stream",
     "text": [
      "C:\\Users\\pitva01\\AppData\\Local\\Continuum\\anaconda3\\lib\\site-packages\\sklearn\\svm\\base.py:196: FutureWarning: The default value of gamma will change from 'auto' to 'scale' in version 0.22 to account better for unscaled features. Set gamma explicitly to 'auto' or 'scale' to avoid this warning.\n",
      "  \"avoid this warning.\", FutureWarning)\n"
     ]
    },
    {
     "name": "stdout",
     "output_type": "stream",
     "text": [
      "Accuracy of SVM classifier on training set: 0.76\n",
      "Accuracy of SVM classifier on test set: 0.76\n"
     ]
    }
   ],
   "source": [
    "from sklearn.svm import SVC\n",
    "svm = SVC()\n",
    "svm.fit(X_train, y_train)\n",
    "print('Accuracy of SVM classifier on training set: {:.2f}'\n",
    "     .format(svm.score(X_train, y_train)))\n",
    "print('Accuracy of SVM classifier on test set: {:.2f}'\n",
    "     .format(svm.score(X_test, y_test)))"
   ]
  },
  {
   "cell_type": "code",
   "execution_count": 172,
   "metadata": {},
   "outputs": [
    {
     "name": "stdout",
     "output_type": "stream",
     "text": [
      "[[4449   31]\n",
      " [1412  108]]\n",
      "              precision    recall  f1-score   support\n",
      "\n",
      "           0       0.76      0.99      0.86      4480\n",
      "           1       0.78      0.07      0.13      1520\n",
      "\n",
      "   micro avg       0.76      0.76      0.76      6000\n",
      "   macro avg       0.77      0.53      0.50      6000\n",
      "weighted avg       0.76      0.76      0.68      6000\n",
      "\n"
     ]
    }
   ],
   "source": [
    "from sklearn.metrics import classification_report\n",
    "from sklearn.metrics import confusion_matrix\n",
    "pred = lda.predict(X_test)\n",
    "print(confusion_matrix(y_test, pred))\n",
    "print(classification_report(y_test, pred))"
   ]
  },
  {
   "cell_type": "markdown",
   "metadata": {},
   "source": [
    "### Lets save the model to file"
   ]
  },
  {
   "cell_type": "code",
   "execution_count": null,
   "metadata": {},
   "outputs": [],
   "source": [
    "filename = 'finalized_model.sav'\n",
    "pickle.dump(model, open(filename, 'wb'))\n",
    " "
   ]
  },
  {
   "cell_type": "markdown",
   "metadata": {},
   "source": [
    "###  Put the unseen data (against which my model to be evaluated) in unseenData.csv in the same format as that competition file part-00000-e6120af0-10c2-4248-97c4-81baf4304e5c-c000.csv"
   ]
  },
  {
   "cell_type": "code",
   "execution_count": 182,
   "metadata": {},
   "outputs": [],
   "source": [
    "    df = pd.read_csv(\"unseenData.csv\")                \n",
    "                \n",
    "    df[\"speedFactor\"] = (np.sqrt((df['acceleration_x'])*(df['acceleration_x']) + (df['acceleration_y'])*(df['acceleration_y']) + (df['acceleration_z'])*(df['acceleration_z'])))/(10 + df[\"Speed\"])        \n",
    "        \n",
    "    df[\"absAccX\"] = np.abs(df['acceleration_x'])\n",
    "    df[\"absAccY\"] = np.abs(df['acceleration_y'])\n",
    "    df[\"absAccZ\"] = np.abs(df['acceleration_z'])\n",
    "\n",
    "    df[\"absGyroX\"] = np.abs(df['gyro_x'])\n",
    "    df[\"absGyroY\"] = np.abs(df['gyro_y'])\n",
    "    df[\"absGyroZ\"] = np.abs(df['gyro_z'])\n",
    "                                \n",
    "    newDf=df.groupby('bookingID').agg({'absAccX':'mean', 'absAccY':'mean','absAccZ':'mean','absGyroX':'mean', 'absGyroY':'mean','absGyroZ':'mean','speedFactor':'mean'})\n",
    "    newDf = newDf.reset_index()\n",
    "    perFileDf =  perFileDf.append(newDf)"
   ]
  },
  {
   "cell_type": "code",
   "execution_count": 189,
   "metadata": {},
   "outputs": [
    {
     "data": {
      "text/html": [
       "<div>\n",
       "<style scoped>\n",
       "    .dataframe tbody tr th:only-of-type {\n",
       "        vertical-align: middle;\n",
       "    }\n",
       "\n",
       "    .dataframe tbody tr th {\n",
       "        vertical-align: top;\n",
       "    }\n",
       "\n",
       "    .dataframe thead th {\n",
       "        text-align: right;\n",
       "    }\n",
       "</style>\n",
       "<table border=\"1\" class=\"dataframe\">\n",
       "  <thead>\n",
       "    <tr style=\"text-align: right;\">\n",
       "      <th></th>\n",
       "      <th>bookingID</th>\n",
       "      <th>absAccX</th>\n",
       "      <th>absAccY</th>\n",
       "      <th>absAccZ</th>\n",
       "      <th>absGyroX</th>\n",
       "      <th>absGyroY</th>\n",
       "      <th>absGyroZ</th>\n",
       "      <th>speedFactor</th>\n",
       "    </tr>\n",
       "  </thead>\n",
       "  <tbody>\n",
       "    <tr>\n",
       "      <th>0</th>\n",
       "      <td>0</td>\n",
       "      <td>0.917439</td>\n",
       "      <td>9.588628</td>\n",
       "      <td>1.618996</td>\n",
       "      <td>0.036449</td>\n",
       "      <td>0.063380</td>\n",
       "      <td>0.039019</td>\n",
       "      <td>0.616447</td>\n",
       "    </tr>\n",
       "    <tr>\n",
       "      <th>1</th>\n",
       "      <td>1</td>\n",
       "      <td>0.590331</td>\n",
       "      <td>9.462895</td>\n",
       "      <td>2.192611</td>\n",
       "      <td>0.018621</td>\n",
       "      <td>0.040373</td>\n",
       "      <td>0.022342</td>\n",
       "      <td>0.621848</td>\n",
       "    </tr>\n",
       "    <tr>\n",
       "      <th>2</th>\n",
       "      <td>2</td>\n",
       "      <td>0.587353</td>\n",
       "      <td>9.792962</td>\n",
       "      <td>0.792379</td>\n",
       "      <td>0.031081</td>\n",
       "      <td>0.105638</td>\n",
       "      <td>0.019730</td>\n",
       "      <td>0.771530</td>\n",
       "    </tr>\n",
       "    <tr>\n",
       "      <th>3</th>\n",
       "      <td>4</td>\n",
       "      <td>0.522485</td>\n",
       "      <td>9.433036</td>\n",
       "      <td>2.594428</td>\n",
       "      <td>0.037383</td>\n",
       "      <td>0.078418</td>\n",
       "      <td>0.045463</td>\n",
       "      <td>0.669307</td>\n",
       "    </tr>\n",
       "    <tr>\n",
       "      <th>4</th>\n",
       "      <td>6</td>\n",
       "      <td>0.628562</td>\n",
       "      <td>9.521509</td>\n",
       "      <td>2.407400</td>\n",
       "      <td>0.038918</td>\n",
       "      <td>0.052217</td>\n",
       "      <td>0.032318</td>\n",
       "      <td>0.770660</td>\n",
       "    </tr>\n",
       "  </tbody>\n",
       "</table>\n",
       "</div>"
      ],
      "text/plain": [
       "   bookingID   absAccX   absAccY   absAccZ  absGyroX  absGyroY  absGyroZ  \\\n",
       "0          0  0.917439  9.588628  1.618996  0.036449  0.063380  0.039019   \n",
       "1          1  0.590331  9.462895  2.192611  0.018621  0.040373  0.022342   \n",
       "2          2  0.587353  9.792962  0.792379  0.031081  0.105638  0.019730   \n",
       "3          4  0.522485  9.433036  2.594428  0.037383  0.078418  0.045463   \n",
       "4          6  0.628562  9.521509  2.407400  0.038918  0.052217  0.032318   \n",
       "\n",
       "   speedFactor  \n",
       "0     0.616447  \n",
       "1     0.621848  \n",
       "2     0.771530  \n",
       "3     0.669307  \n",
       "4     0.770660  "
      ]
     },
     "execution_count": 189,
     "metadata": {},
     "output_type": "execute_result"
    }
   ],
   "source": [
    "perFileDf.head()\n"
   ]
  },
  {
   "cell_type": "code",
   "execution_count": 185,
   "metadata": {},
   "outputs": [],
   "source": [
    "allColumns = withLabelDf.columns\n",
    "excludeLabels = [\"bookingID\",\"label\"]"
   ]
  },
  {
   "cell_type": "code",
   "execution_count": 186,
   "metadata": {},
   "outputs": [],
   "source": [
    "featuresCol = [eachCol for eachCol in allColumns if eachCol not in excludeLabels]"
   ]
  },
  {
   "cell_type": "code",
   "execution_count": 191,
   "metadata": {},
   "outputs": [
    {
     "name": "stdout",
     "output_type": "stream",
     "text": [
      "This is the model prediction\n",
      "[0 0 0 ... 0 0 0]\n"
     ]
    }
   ],
   "source": [
    "loaded_model = pickle.load(open(filename, 'rb'))\n",
    "result = loaded_model.predict(perFileDf[featuresCol])\n",
    "print(\"This is the model prediction\")\n",
    "print(result)"
   ]
  },
  {
   "cell_type": "markdown",
   "metadata": {},
   "source": [
    "###  How to read the unseen data and test our model"
   ]
  },
  {
   "cell_type": "code",
   "execution_count": null,
   "metadata": {},
   "outputs": [],
   "source": []
  }
 ],
 "metadata": {
  "kernelspec": {
   "display_name": "Python 3",
   "language": "python",
   "name": "python3"
  },
  "language_info": {
   "codemirror_mode": {
    "name": "ipython",
    "version": 3
   },
   "file_extension": ".py",
   "mimetype": "text/x-python",
   "name": "python",
   "nbconvert_exporter": "python",
   "pygments_lexer": "ipython3",
   "version": "3.6.7"
  }
 },
 "nbformat": 4,
 "nbformat_minor": 2
}
